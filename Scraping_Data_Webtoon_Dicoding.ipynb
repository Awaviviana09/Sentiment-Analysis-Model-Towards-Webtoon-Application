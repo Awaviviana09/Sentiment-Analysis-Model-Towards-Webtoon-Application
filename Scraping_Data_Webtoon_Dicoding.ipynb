{
  "nbformat": 4,
  "nbformat_minor": 0,
  "metadata": {
    "colab": {
      "provenance": []
    },
    "kernelspec": {
      "name": "python3",
      "display_name": "Python 3"
    },
    "language_info": {
      "name": "python"
    }
  },
  "cells": [
    {
      "cell_type": "markdown",
      "source": [
        "NAMA : ZAHWA GENOVEVA\n",
        "\n",
        "EMAIL : zahwagenoveva09@gmail.com"
      ],
      "metadata": {
        "id": "9OfwE-F2y1Jv"
      }
    },
    {
      "cell_type": "markdown",
      "source": [
        "<center>\n",
        "    <img src=\"https://webtoons-static.pstatic.net/image/pc/home/og_id.jpg?dt=2021111201\" width=\"10500\" height=\"590\"/>\n",
        "</center>"
      ],
      "metadata": {
        "id": "IAv_xIJAzXLi"
      }
    },
    {
      "cell_type": "markdown",
      "source": [
        "**REQUIREMENTS.TXT**"
      ],
      "metadata": {
        "id": "o18vy75rBvl1"
      }
    },
    {
      "cell_type": "code",
      "source": [
        "#Cara Pertama\n",
        "!pip freeze > requirements.txt"
      ],
      "metadata": {
        "id": "vdIepHOxB4rW"
      },
      "execution_count": 2,
      "outputs": []
    },
    {
      "cell_type": "code",
      "source": [
        "# Cara Kedua\n",
        "from google.colab import drive\n",
        "drive.mount('/content/drive/')"
      ],
      "metadata": {
        "colab": {
          "base_uri": "https://localhost:8080/"
        },
        "id": "XofvBbsNB9L6",
        "outputId": "723a00ec-695b-4a18-b623-b268f8e0fd0c"
      },
      "execution_count": 5,
      "outputs": [
        {
          "output_type": "stream",
          "name": "stdout",
          "text": [
            "Mounted at /content/drive/\n"
          ]
        }
      ]
    },
    {
      "cell_type": "code",
      "source": [
        "!pip install pipreqs"
      ],
      "metadata": {
        "colab": {
          "base_uri": "https://localhost:8080/"
        },
        "id": "x5me0Et6CB3b",
        "outputId": "01e9dade-674e-4486-e07a-924ab5b1aea6"
      },
      "execution_count": 1,
      "outputs": [
        {
          "output_type": "stream",
          "name": "stdout",
          "text": [
            "Requirement already satisfied: pipreqs in /usr/local/lib/python3.10/dist-packages (0.5.0)\n",
            "Requirement already satisfied: docopt==0.6.2 in /usr/local/lib/python3.10/dist-packages (from pipreqs) (0.6.2)\n",
            "Requirement already satisfied: ipython==8.12.3 in /usr/local/lib/python3.10/dist-packages (from pipreqs) (8.12.3)\n",
            "Requirement already satisfied: nbconvert<8.0.0,>=7.11.0 in /usr/local/lib/python3.10/dist-packages (from pipreqs) (7.16.4)\n",
            "Requirement already satisfied: yarg==0.1.9 in /usr/local/lib/python3.10/dist-packages (from pipreqs) (0.1.9)\n",
            "Requirement already satisfied: backcall in /usr/local/lib/python3.10/dist-packages (from ipython==8.12.3->pipreqs) (0.2.0)\n",
            "Requirement already satisfied: decorator in /usr/local/lib/python3.10/dist-packages (from ipython==8.12.3->pipreqs) (4.4.2)\n",
            "Requirement already satisfied: jedi>=0.16 in /usr/local/lib/python3.10/dist-packages (from ipython==8.12.3->pipreqs) (0.19.1)\n",
            "Requirement already satisfied: matplotlib-inline in /usr/local/lib/python3.10/dist-packages (from ipython==8.12.3->pipreqs) (0.1.7)\n",
            "Requirement already satisfied: pickleshare in /usr/local/lib/python3.10/dist-packages (from ipython==8.12.3->pipreqs) (0.7.5)\n",
            "Requirement already satisfied: prompt-toolkit!=3.0.37,<3.1.0,>=3.0.30 in /usr/local/lib/python3.10/dist-packages (from ipython==8.12.3->pipreqs) (3.0.47)\n",
            "Requirement already satisfied: pygments>=2.4.0 in /usr/local/lib/python3.10/dist-packages (from ipython==8.12.3->pipreqs) (2.16.1)\n",
            "Requirement already satisfied: stack-data in /usr/local/lib/python3.10/dist-packages (from ipython==8.12.3->pipreqs) (0.6.3)\n",
            "Requirement already satisfied: traitlets>=5 in /usr/local/lib/python3.10/dist-packages (from ipython==8.12.3->pipreqs) (5.7.1)\n",
            "Requirement already satisfied: pexpect>4.3 in /usr/local/lib/python3.10/dist-packages (from ipython==8.12.3->pipreqs) (4.9.0)\n",
            "Requirement already satisfied: requests in /usr/local/lib/python3.10/dist-packages (from yarg==0.1.9->pipreqs) (2.32.3)\n",
            "Requirement already satisfied: beautifulsoup4 in /usr/local/lib/python3.10/dist-packages (from nbconvert<8.0.0,>=7.11.0->pipreqs) (4.12.3)\n",
            "Requirement already satisfied: bleach!=5.0.0 in /usr/local/lib/python3.10/dist-packages (from nbconvert<8.0.0,>=7.11.0->pipreqs) (6.1.0)\n",
            "Requirement already satisfied: defusedxml in /usr/local/lib/python3.10/dist-packages (from nbconvert<8.0.0,>=7.11.0->pipreqs) (0.7.1)\n",
            "Requirement already satisfied: jinja2>=3.0 in /usr/local/lib/python3.10/dist-packages (from nbconvert<8.0.0,>=7.11.0->pipreqs) (3.1.4)\n",
            "Requirement already satisfied: jupyter-core>=4.7 in /usr/local/lib/python3.10/dist-packages (from nbconvert<8.0.0,>=7.11.0->pipreqs) (5.7.2)\n",
            "Requirement already satisfied: jupyterlab-pygments in /usr/local/lib/python3.10/dist-packages (from nbconvert<8.0.0,>=7.11.0->pipreqs) (0.3.0)\n",
            "Requirement already satisfied: markupsafe>=2.0 in /usr/local/lib/python3.10/dist-packages (from nbconvert<8.0.0,>=7.11.0->pipreqs) (2.1.5)\n",
            "Requirement already satisfied: mistune<4,>=2.0.3 in /usr/local/lib/python3.10/dist-packages (from nbconvert<8.0.0,>=7.11.0->pipreqs) (3.0.2)\n",
            "Requirement already satisfied: nbclient>=0.5.0 in /usr/local/lib/python3.10/dist-packages (from nbconvert<8.0.0,>=7.11.0->pipreqs) (0.10.0)\n",
            "Requirement already satisfied: nbformat>=5.7 in /usr/local/lib/python3.10/dist-packages (from nbconvert<8.0.0,>=7.11.0->pipreqs) (5.10.4)\n",
            "Requirement already satisfied: packaging in /usr/local/lib/python3.10/dist-packages (from nbconvert<8.0.0,>=7.11.0->pipreqs) (24.1)\n",
            "Requirement already satisfied: pandocfilters>=1.4.1 in /usr/local/lib/python3.10/dist-packages (from nbconvert<8.0.0,>=7.11.0->pipreqs) (1.5.1)\n",
            "Requirement already satisfied: tinycss2 in /usr/local/lib/python3.10/dist-packages (from nbconvert<8.0.0,>=7.11.0->pipreqs) (1.3.0)\n",
            "Requirement already satisfied: six>=1.9.0 in /usr/local/lib/python3.10/dist-packages (from bleach!=5.0.0->nbconvert<8.0.0,>=7.11.0->pipreqs) (1.16.0)\n",
            "Requirement already satisfied: webencodings in /usr/local/lib/python3.10/dist-packages (from bleach!=5.0.0->nbconvert<8.0.0,>=7.11.0->pipreqs) (0.5.1)\n",
            "Requirement already satisfied: parso<0.9.0,>=0.8.3 in /usr/local/lib/python3.10/dist-packages (from jedi>=0.16->ipython==8.12.3->pipreqs) (0.8.4)\n",
            "Requirement already satisfied: platformdirs>=2.5 in /usr/local/lib/python3.10/dist-packages (from jupyter-core>=4.7->nbconvert<8.0.0,>=7.11.0->pipreqs) (4.2.2)\n",
            "Requirement already satisfied: jupyter-client>=6.1.12 in /usr/local/lib/python3.10/dist-packages (from nbclient>=0.5.0->nbconvert<8.0.0,>=7.11.0->pipreqs) (6.1.12)\n",
            "Requirement already satisfied: fastjsonschema>=2.15 in /usr/local/lib/python3.10/dist-packages (from nbformat>=5.7->nbconvert<8.0.0,>=7.11.0->pipreqs) (2.20.0)\n",
            "Requirement already satisfied: jsonschema>=2.6 in /usr/local/lib/python3.10/dist-packages (from nbformat>=5.7->nbconvert<8.0.0,>=7.11.0->pipreqs) (4.23.0)\n",
            "Requirement already satisfied: ptyprocess>=0.5 in /usr/local/lib/python3.10/dist-packages (from pexpect>4.3->ipython==8.12.3->pipreqs) (0.7.0)\n",
            "Requirement already satisfied: wcwidth in /usr/local/lib/python3.10/dist-packages (from prompt-toolkit!=3.0.37,<3.1.0,>=3.0.30->ipython==8.12.3->pipreqs) (0.2.13)\n",
            "Requirement already satisfied: soupsieve>1.2 in /usr/local/lib/python3.10/dist-packages (from beautifulsoup4->nbconvert<8.0.0,>=7.11.0->pipreqs) (2.6)\n",
            "Requirement already satisfied: charset-normalizer<4,>=2 in /usr/local/lib/python3.10/dist-packages (from requests->yarg==0.1.9->pipreqs) (3.3.2)\n",
            "Requirement already satisfied: idna<4,>=2.5 in /usr/local/lib/python3.10/dist-packages (from requests->yarg==0.1.9->pipreqs) (3.7)\n",
            "Requirement already satisfied: urllib3<3,>=1.21.1 in /usr/local/lib/python3.10/dist-packages (from requests->yarg==0.1.9->pipreqs) (2.0.7)\n",
            "Requirement already satisfied: certifi>=2017.4.17 in /usr/local/lib/python3.10/dist-packages (from requests->yarg==0.1.9->pipreqs) (2024.7.4)\n",
            "Requirement already satisfied: executing>=1.2.0 in /usr/local/lib/python3.10/dist-packages (from stack-data->ipython==8.12.3->pipreqs) (2.0.1)\n",
            "Requirement already satisfied: asttokens>=2.1.0 in /usr/local/lib/python3.10/dist-packages (from stack-data->ipython==8.12.3->pipreqs) (2.4.1)\n",
            "Requirement already satisfied: pure-eval in /usr/local/lib/python3.10/dist-packages (from stack-data->ipython==8.12.3->pipreqs) (0.2.3)\n",
            "Requirement already satisfied: attrs>=22.2.0 in /usr/local/lib/python3.10/dist-packages (from jsonschema>=2.6->nbformat>=5.7->nbconvert<8.0.0,>=7.11.0->pipreqs) (24.2.0)\n",
            "Requirement already satisfied: jsonschema-specifications>=2023.03.6 in /usr/local/lib/python3.10/dist-packages (from jsonschema>=2.6->nbformat>=5.7->nbconvert<8.0.0,>=7.11.0->pipreqs) (2023.12.1)\n",
            "Requirement already satisfied: referencing>=0.28.4 in /usr/local/lib/python3.10/dist-packages (from jsonschema>=2.6->nbformat>=5.7->nbconvert<8.0.0,>=7.11.0->pipreqs) (0.35.1)\n",
            "Requirement already satisfied: rpds-py>=0.7.1 in /usr/local/lib/python3.10/dist-packages (from jsonschema>=2.6->nbformat>=5.7->nbconvert<8.0.0,>=7.11.0->pipreqs) (0.20.0)\n",
            "Requirement already satisfied: pyzmq>=13 in /usr/local/lib/python3.10/dist-packages (from jupyter-client>=6.1.12->nbclient>=0.5.0->nbconvert<8.0.0,>=7.11.0->pipreqs) (24.0.1)\n",
            "Requirement already satisfied: python-dateutil>=2.1 in /usr/local/lib/python3.10/dist-packages (from jupyter-client>=6.1.12->nbclient>=0.5.0->nbconvert<8.0.0,>=7.11.0->pipreqs) (2.8.2)\n",
            "Requirement already satisfied: tornado>=4.1 in /usr/local/lib/python3.10/dist-packages (from jupyter-client>=6.1.12->nbclient>=0.5.0->nbconvert<8.0.0,>=7.11.0->pipreqs) (6.3.3)\n"
          ]
        }
      ]
    },
    {
      "cell_type": "code",
      "source": [
        "!pipreqs \"/content/drive/MyDrive/Projek\" --scan-Notebooks"
      ],
      "metadata": {
        "colab": {
          "base_uri": "https://localhost:8080/"
        },
        "id": "i7aehySxDT3d",
        "outputId": "c9b50872-5ec8-4e1c-e9d5-a5b3fee65d0e"
      },
      "execution_count": 3,
      "outputs": [
        {
          "output_type": "stream",
          "name": "stdout",
          "text": [
            "Usage:\n",
            "    pipreqs [options] [<path>]\n"
          ]
        }
      ]
    },
    {
      "cell_type": "markdown",
      "source": [
        "**SCRAPPING** **DATA**"
      ],
      "metadata": {
        "id": "AcDUmD-qxrnn"
      }
    },
    {
      "cell_type": "code",
      "source": [
        "# Install library yang diperlukan\n",
        "!pip install google-play-scraper\n",
        "\n",
        "from google_play_scraper import reviews, Sort\n",
        "import pandas as pd\n",
        "import time\n",
        "\n",
        "# Fungsi untuk mengambil ulasan dengan batasan dan jeda waktu\n",
        "def get_reviews_balanced(app_id, pos_count=5000, neg_count=5000, batch_size=500, pause_time=10):\n",
        "    positive_reviews = []\n",
        "    negative_reviews = []\n",
        "    next_token = None\n",
        "\n",
        "    while len(positive_reviews) < pos_count or len(negative_reviews) < neg_count:\n",
        "        # Menentukan jumlah ulasan yang harus diambil dalam batch ini\n",
        "        batch_count = min(batch_size, (pos_count + neg_count) - (len(positive_reviews) + len(negative_reviews)))\n",
        "\n",
        "        # Mengambil batch ulasan\n",
        "        result, next_token = reviews(\n",
        "            app_id,\n",
        "            lang='id',\n",
        "            country='id',\n",
        "            sort=Sort.NEWEST,\n",
        "            count=batch_count,\n",
        "            continuation_token=next_token\n",
        "        )\n",
        "\n",
        "        # Memisahkan ulasan berdasarkan rating\n",
        "        for review in result:\n",
        "            if review['score'] >= 4 and len(positive_reviews) < pos_count:\n",
        "                positive_reviews.append(review)\n",
        "            elif review['score'] <= 2 and len(negative_reviews) < neg_count:\n",
        "                negative_reviews.append(review)\n",
        "\n",
        "        print(f\"Total ulasan positif: {len(positive_reviews)}, Total ulasan negatif: {len(negative_reviews)}\")\n",
        "\n",
        "        # Jika token selanjutnya kosong atau semua ulasan telah tercapai, hentikan pengambilan\n",
        "        if not next_token or (len(positive_reviews) >= pos_count and len(negative_reviews) >= neg_count):\n",
        "            break\n",
        "\n",
        "        # Jeda waktu setiap batch\n",
        "        if len(positive_reviews) < pos_count or len(negative_reviews) < neg_count:\n",
        "            print(f\"Menunggu selama {pause_time} detik...\")\n",
        "            time.sleep(pause_time)\n",
        "\n",
        "    return positive_reviews + negative_reviews\n",
        "\n",
        "# ID aplikasi Webtoon di Google Play Store\n",
        "app_id = 'com.naver.linewebtoon'\n",
        "\n",
        "# Mengambil ulasan dengan batasan dan jeda waktu\n",
        "all_reviews = get_reviews_balanced(app_id, pos_count=5000, neg_count=5000, batch_size=500, pause_time=10)\n",
        "\n",
        "# Membuat DataFrame dari hasil scraping\n",
        "df = pd.DataFrame(all_reviews)\n",
        "\n",
        "# Menyimpan semua data ke dalam satu file CSV\n",
        "df.to_csv('komentar_seimbang.csv', index=False)\n",
        "\n",
        "print(f\"Total ulasan yang diambil: {len(df)}\")\n"
      ],
      "metadata": {
        "colab": {
          "base_uri": "https://localhost:8080/"
        },
        "id": "otO-Jqmjxyac",
        "outputId": "613ad27c-6200-4286-825b-18d0e118fce6"
      },
      "execution_count": null,
      "outputs": [
        {
          "output_type": "stream",
          "name": "stdout",
          "text": [
            "Requirement already satisfied: google-play-scraper in /usr/local/lib/python3.10/dist-packages (1.2.7)\n",
            "Total ulasan positif: 421, Total ulasan negatif: 45\n",
            "Menunggu selama 10 detik...\n",
            "Total ulasan positif: 858, Total ulasan negatif: 81\n",
            "Menunggu selama 10 detik...\n",
            "Total ulasan positif: 1247, Total ulasan negatif: 156\n",
            "Menunggu selama 10 detik...\n",
            "Total ulasan positif: 1639, Total ulasan negatif: 238\n",
            "Menunggu selama 10 detik...\n",
            "Total ulasan positif: 2000, Total ulasan negatif: 316\n",
            "Menunggu selama 10 detik...\n",
            "Total ulasan positif: 2000, Total ulasan negatif: 359\n",
            "Menunggu selama 10 detik...\n",
            "Total ulasan positif: 2000, Total ulasan negatif: 400\n",
            "Menunggu selama 10 detik...\n",
            "Total ulasan positif: 2000, Total ulasan negatif: 435\n",
            "Menunggu selama 10 detik...\n",
            "Total ulasan positif: 2000, Total ulasan negatif: 489\n",
            "Menunggu selama 10 detik...\n",
            "Total ulasan positif: 2000, Total ulasan negatif: 528\n",
            "Menunggu selama 10 detik...\n",
            "Total ulasan positif: 2000, Total ulasan negatif: 579\n",
            "Menunggu selama 10 detik...\n",
            "Total ulasan positif: 2000, Total ulasan negatif: 620\n",
            "Menunggu selama 10 detik...\n",
            "Total ulasan positif: 2000, Total ulasan negatif: 668\n",
            "Menunggu selama 10 detik...\n",
            "Total ulasan positif: 2000, Total ulasan negatif: 706\n",
            "Menunggu selama 10 detik...\n",
            "Total ulasan positif: 2000, Total ulasan negatif: 748\n",
            "Menunggu selama 10 detik...\n",
            "Total ulasan positif: 2000, Total ulasan negatif: 794\n",
            "Menunggu selama 10 detik...\n",
            "Total ulasan positif: 2000, Total ulasan negatif: 831\n",
            "Menunggu selama 10 detik...\n",
            "Total ulasan positif: 2000, Total ulasan negatif: 863\n",
            "Menunggu selama 10 detik...\n",
            "Total ulasan positif: 2000, Total ulasan negatif: 923\n",
            "Menunggu selama 10 detik...\n",
            "Total ulasan positif: 2000, Total ulasan negatif: 967\n",
            "Menunggu selama 10 detik...\n",
            "Total ulasan positif: 2000, Total ulasan negatif: 998\n",
            "Menunggu selama 10 detik...\n",
            "Total ulasan positif: 2000, Total ulasan negatif: 1057\n",
            "Menunggu selama 10 detik...\n",
            "Total ulasan positif: 2000, Total ulasan negatif: 1138\n",
            "Menunggu selama 10 detik...\n",
            "Total ulasan positif: 2000, Total ulasan negatif: 1227\n",
            "Menunggu selama 10 detik...\n",
            "Total ulasan positif: 2000, Total ulasan negatif: 1294\n",
            "Menunggu selama 10 detik...\n",
            "Total ulasan positif: 2000, Total ulasan negatif: 1353\n",
            "Menunggu selama 10 detik...\n",
            "Total ulasan positif: 2000, Total ulasan negatif: 1424\n",
            "Menunggu selama 10 detik...\n",
            "Total ulasan positif: 2000, Total ulasan negatif: 1484\n",
            "Menunggu selama 10 detik...\n",
            "Total ulasan positif: 2000, Total ulasan negatif: 1536\n",
            "Menunggu selama 10 detik...\n",
            "Total ulasan positif: 2000, Total ulasan negatif: 1592\n",
            "Menunggu selama 10 detik...\n",
            "Total ulasan positif: 2000, Total ulasan negatif: 1651\n",
            "Menunggu selama 10 detik...\n",
            "Total ulasan positif: 2000, Total ulasan negatif: 1714\n",
            "Menunggu selama 10 detik...\n",
            "Total ulasan positif: 2000, Total ulasan negatif: 1760\n",
            "Menunggu selama 10 detik...\n",
            "Total ulasan positif: 2000, Total ulasan negatif: 1799\n",
            "Menunggu selama 10 detik...\n",
            "Total ulasan positif: 2000, Total ulasan negatif: 1840\n",
            "Menunggu selama 10 detik...\n",
            "Total ulasan positif: 2000, Total ulasan negatif: 1899\n",
            "Menunggu selama 10 detik...\n",
            "Total ulasan positif: 2000, Total ulasan negatif: 1961\n",
            "Menunggu selama 10 detik...\n",
            "Total ulasan positif: 2000, Total ulasan negatif: 2000\n",
            "Total ulasan yang diambil: 4000\n"
          ]
        }
      ]
    }
  ]
}